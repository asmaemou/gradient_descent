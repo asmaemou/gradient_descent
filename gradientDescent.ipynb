{
 "cells": [
  {
   "cell_type": "markdown",
   "metadata": {},
   "source": [
    "### Setup  Environment"
   ]
  },
  {
   "cell_type": "code",
   "execution_count": 1,
   "metadata": {},
   "outputs": [
    {
     "name": "stdout",
     "output_type": "stream",
     "text": [
      "Requirement already satisfied: openpyxl in /Users/Internship/Documents/GitHub/Capstone_Notebook/env/lib/python3.9/site-packages (3.1.5)\n",
      "Requirement already satisfied: et-xmlfile in /Users/Internship/Documents/GitHub/Capstone_Notebook/env/lib/python3.9/site-packages (from openpyxl) (2.0.0)\n",
      "\n",
      "\u001b[1m[\u001b[0m\u001b[34;49mnotice\u001b[0m\u001b[1;39;49m]\u001b[0m\u001b[39;49m A new release of pip is available: \u001b[0m\u001b[31;49m24.2\u001b[0m\u001b[39;49m -> \u001b[0m\u001b[32;49m24.3.1\u001b[0m\n",
      "\u001b[1m[\u001b[0m\u001b[34;49mnotice\u001b[0m\u001b[1;39;49m]\u001b[0m\u001b[39;49m To update, run: \u001b[0m\u001b[32;49mpip install --upgrade pip\u001b[0m\n"
     ]
    }
   ],
   "source": [
    "!pip3 install openpyxl"
   ]
  },
  {
   "cell_type": "code",
   "execution_count": 30,
   "metadata": {},
   "outputs": [],
   "source": [
    "import pandas as pd\n",
    "import numpy as np\n",
    "import matplotlib.pyplot as plt"
   ]
  },
  {
   "cell_type": "markdown",
   "metadata": {},
   "source": [
    "### Load and Preprocess the Data"
   ]
  },
  {
   "cell_type": "code",
   "execution_count": 31,
   "metadata": {},
   "outputs": [
    {
     "name": "stdout",
     "output_type": "stream",
     "text": [
      "           id       Date  number of bedrooms  number of bathrooms  \\\n",
      "0  6762810145 2016-05-01                   5                 2.50   \n",
      "1  6762810635 2016-05-01                   4                 2.50   \n",
      "2  6762810998 2016-05-01                   5                 2.75   \n",
      "3  6762812605 2016-05-01                   4                 2.50   \n",
      "4  6762812919 2016-05-01                   3                 2.00   \n",
      "\n",
      "   living area  lot area  number of floors  waterfront present  \\\n",
      "0         3650      9050               2.0                   0   \n",
      "1         2920      4000               1.5                   0   \n",
      "2         2910      9480               1.5                   0   \n",
      "3         3310     42998               2.0                   0   \n",
      "4         2710      4500               1.5                   0   \n",
      "\n",
      "   number of views  condition of the house  ...  Built Year  Renovation Year  \\\n",
      "0                4                       5  ...        1921                0   \n",
      "1                0                       5  ...        1909                0   \n",
      "2                0                       3  ...        1939                0   \n",
      "3                0                       3  ...        2001                0   \n",
      "4                0                       4  ...        1929                0   \n",
      "\n",
      "   Postal Code  Lattitude  Longitude  living_area_renov  lot_area_renov  \\\n",
      "0       122003    52.8645   -114.557               2880            5400   \n",
      "1       122004    52.8878   -114.470               2470            4000   \n",
      "2       122004    52.8852   -114.468               2940            6600   \n",
      "3       122005    52.9532   -114.321               3350           42847   \n",
      "4       122006    52.9047   -114.485               2060            4500   \n",
      "\n",
      "   Number of schools nearby  Distance from the airport    Price  \n",
      "0                         2                         58  2380000  \n",
      "1                         2                         51  1400000  \n",
      "2                         1                         53  1200000  \n",
      "3                         3                         76   838000  \n",
      "4                         1                         51   805000  \n",
      "\n",
      "[5 rows x 23 columns]\n"
     ]
    }
   ],
   "source": [
    "file_path = \"/Users/Internship/Documents/gradient_descent/house_price_2016.xlsx\"\n",
    "df = pd.read_excel(file_path,sheet_name='2016')\n",
    "print(df.head())"
   ]
  },
  {
   "cell_type": "code",
   "execution_count": 32,
   "metadata": {},
   "outputs": [
    {
     "data": {
      "text/plain": [
       "array([[5.000e+00, 2.500e+00, 3.650e+03, ..., 5.400e+03, 2.000e+00,\n",
       "        5.800e+01],\n",
       "       [4.000e+00, 2.500e+00, 2.920e+03, ..., 4.000e+03, 2.000e+00,\n",
       "        5.100e+01],\n",
       "       [5.000e+00, 2.750e+00, 2.910e+03, ..., 6.600e+03, 1.000e+00,\n",
       "        5.300e+01],\n",
       "       ...,\n",
       "       [2.000e+00, 1.000e+00, 1.070e+03, ..., 6.120e+03, 2.000e+00,\n",
       "        6.400e+01],\n",
       "       [4.000e+00, 1.000e+00, 1.030e+03, ..., 6.631e+03, 3.000e+00,\n",
       "        5.400e+01],\n",
       "       [3.000e+00, 1.000e+00, 9.000e+02, ..., 3.480e+03, 2.000e+00,\n",
       "        5.500e+01]])"
      ]
     },
     "execution_count": 32,
     "metadata": {},
     "output_type": "execute_result"
    }
   ],
   "source": [
    "df = df.drop(['id', 'Date'], axis=1, errors='ignore')  # drop the columns that are not numeric because we cannot scall non numeric feature\n",
    "\n",
    "# Extract the features and target variable\n",
    "X = df.drop('Price', axis=1).values  # Drop the 'Price' column (target)\n",
    "y = df['Price'].values              # Extract the target column\n",
    "\n",
    "X"
   ]
  },
  {
   "cell_type": "code",
   "execution_count": 33,
   "metadata": {},
   "outputs": [
    {
     "name": "stdout",
     "output_type": "stream",
     "text": [
      "Shape of X: (14620, 20)\n",
      "Shape of y: (14620,)\n"
     ]
    }
   ],
   "source": [
    "print(\"Shape of X:\", X.shape)\n",
    "print(\"Shape of y:\", y.shape)"
   ]
  },
  {
   "cell_type": "code",
   "execution_count": 34,
   "metadata": {},
   "outputs": [
    {
     "name": "stdout",
     "output_type": "stream",
     "text": [
      "Transformed Features with Bias Term:\n",
      "[[ 1.00000000e+00  1.72651488e+00  4.81118728e-01  1.67169090e+00\n",
      "  -1.59376270e-01  9.21180431e-01 -8.78628402e-02  4.91612603e+00\n",
      "   2.36323827e+00  1.97241984e+00  1.88084789e+00 -3.67396759e-02\n",
      "  -1.69284412e+00 -2.18461024e-01 -1.57544351e+00  5.21042852e-01\n",
      "  -1.08259320e+00  1.27816008e+00 -2.82202571e-01 -1.49812303e-02\n",
      "  -7.77885993e-01]\n",
      " [ 1.00000000e+00  6.61196758e-01  4.81118728e-01  8.85259724e-01\n",
      "  -2.92557261e-01 -4.36818430e-03 -8.78628402e-02 -3.04222791e-01\n",
      "   2.36323827e+00  2.70281419e-01  1.29789496e-01  1.59077715e+00\n",
      "  -2.09972562e+00 -2.18461024e-01 -1.52303746e+00  6.90476044e-01\n",
      "  -4.66973740e-01  6.84876969e-01 -3.35929857e-01 -1.49812303e-02\n",
      "  -1.56126035e+00]\n",
      " [ 1.00000000e+00  1.72651488e+00  8.05832781e-01  8.74486694e-01\n",
      "  -1.48036107e-01 -4.36818430e-03 -8.78628402e-02 -3.04222791e-01\n",
      "  -6.48227216e-01  2.70281419e-01  1.32914456e+00 -6.60992706e-01\n",
      "  -1.08252187e+00 -2.18461024e-01 -1.52303746e+00  6.71569336e-01\n",
      "  -4.52821568e-01  1.36498200e+00 -2.36150612e-01 -1.23858786e+00\n",
      "  -1.33743911e+00]\n",
      " [ 1.00000000e+00  6.61196758e-01  4.81118728e-01  1.30540789e+00\n",
      "   7.35916454e-01  9.21180431e-01 -8.78628402e-02 -3.04222791e-01\n",
      "  -6.48227216e-01  1.12135063e+00  1.80888659e+00 -6.60992706e-01\n",
      "   1.01969922e+00 -2.18461024e-01 -1.47063140e+00  1.16605247e+00\n",
      "   5.87363029e-01  1.95826511e+00  1.15488719e+00  1.20862540e+00\n",
      "   1.23650522e+00]\n",
      " [ 1.00000000e+00 -4.04121360e-01 -1.68309377e-01  6.59026098e-01\n",
      "  -2.79371024e-01 -4.36818430e-03 -8.78628402e-02 -3.04222791e-01\n",
      "   8.57505529e-01  2.70281419e-01  9.38088443e-02  1.18947163e+00\n",
      "  -1.42158979e+00 -2.18461024e-01 -1.41822535e+00  8.13369647e-01\n",
      "  -5.73115025e-01  9.15938581e-02 -3.16741541e-01 -1.23858786e+00\n",
      "  -1.56126035e+00]]\n"
     ]
    }
   ],
   "source": [
    "# Feature scaling\n",
    "from sklearn.preprocessing import StandardScaler\n",
    "\n",
    "# Initialize the scaler\n",
    "scaler = StandardScaler()\n",
    "\n",
    "# Fit and transform the features (X)\n",
    "X = scaler.fit_transform(X)\n",
    "scaler_y = StandardScaler()\n",
    "y = scaler_y.fit_transform(y.reshape(-1, 1)).flatten()  # Scale y and flatten back to 1D\n",
    "# Add a column of ones for the bias term (intercept)\n",
    "X = np.c_[np.ones(X.shape[0]), X]  # Add bias as the first column\n",
    "\n",
    "# Check the transformed features\n",
    "print(\"Transformed Features with Bias Term:\")\n",
    "print(X[:5])  # Display first 5 rows to verify\n"
   ]
  },
  {
   "cell_type": "markdown",
   "metadata": {},
   "source": [
    "#### hyperparameter"
   ]
  },
  {
   "cell_type": "code",
   "execution_count": null,
   "metadata": {},
   "outputs": [
    {
     "data": {
      "text/plain": [
       "array([ 0.36167376, -0.69920671,  0.95837195,  0.77301454,  0.53801402,\n",
       "       -0.7576887 ,  1.51075949,  1.1125494 ,  0.1616935 ,  1.75380768,\n",
       "       -0.28929611, -1.18539205, -0.96411125, -0.64687207, -0.31899   ,\n",
       "        0.01154631,  0.41728254, -1.31401632,  0.29118418, -2.24295004,\n",
       "        1.05838862])"
      ]
     },
     "execution_count": 35,
     "metadata": {},
     "output_type": "execute_result"
    }
   ],
   "source": [
    "alpha = 0.001\n",
    "epochs = 10000\n",
    "\n",
    "theta = np.zeros(X.shape[1])\n",
    "\n",
    "theta"
   ]
  },
  {
   "cell_type": "markdown",
   "metadata": {},
   "source": [
    "##### MSE (Mean Squared Error) It measures how far the predicted values are from the true values."
   ]
  },
  {
   "cell_type": "code",
   "execution_count": 36,
   "metadata": {},
   "outputs": [
    {
     "data": {
      "text/plain": [
       "array([-5.79480038e-15, -8.63321555e-02,  8.58826139e-02,  1.01917021e+00,\n",
       "        2.84336251e-04,  2.04723548e-03,  1.37620617e-01,  1.02290599e-01,\n",
       "        5.88617230e-02,  3.13786328e-01, -4.86501455e-01, -3.09389644e-01,\n",
       "       -1.96833520e-01,  2.71990588e-02,  1.44200934e-02,  2.07016423e-01,\n",
       "       -3.83759516e-02,  3.07354941e-02, -2.64083231e-02,  3.89088678e-03,\n",
       "       -2.99444146e-03])"
      ]
     },
     "execution_count": 36,
     "metadata": {},
     "output_type": "execute_result"
    }
   ],
   "source": [
    "def gradient_descent(X, y, theta, alpha, epochs):\n",
    "  m = len(y)\n",
    "  errors = []\n",
    "  for _ in range(epochs):\n",
    "\n",
    "    # Calculate the predictions\n",
    "    predictions = X.dot(theta) #predictions is y_pred the predicted values from the current weights theta.\n",
    "\n",
    "    # Calculate MSE\n",
    "    error = (1/m) * np.sum((predictions - y) ** 2)\n",
    "    errors.append(error)\n",
    "\n",
    "    # Calculate the grdient of the cost function, by getting a vectorized implementation of the gradient\n",
    "    gradient = (2/m) * X.T.dot(X.dot(theta) - y)\n",
    "    # we adjust the values of theta so that the cost becomes smaller.\n",
    "    theta = theta - alpha * gradient\n",
    "\n",
    "  return theta, errors\n",
    "\n",
    "theta, errors = gradient_descent(X, y, theta, alpha, epochs)\n",
    "\n",
    "theta"
   ]
  },
  {
   "cell_type": "markdown",
   "metadata": {},
   "source": [
    "#### Vectorized Gradient Calculation:\n",
    "\n",
    "##### The gradient of the cost function is computed for all parameters (theta) at once using matrix operations:\n",
    "##### This automatically handles the partial derivatives for all theta values, whether you have 1 feature, 2 features, or more."
   ]
  },
  {
   "cell_type": "code",
   "execution_count": null,
   "metadata": {},
   "outputs": [
    {
     "name": "stdout",
     "output_type": "stream",
     "text": [
      "Actual vs Predicted\n",
      "[[5.00943820e+00 1.43786621e+06]\n",
      " [2.34291528e+00 9.40468712e+05]\n",
      " [1.79872693e+00 8.18843248e+05]\n",
      " [8.13746015e-01 8.81983579e+05]\n",
      " [7.23954937e-01 8.42233423e+05]]\n"
     ]
    }
   ],
   "source": [
    "predictions = X.dot(theta)\n",
    "\n",
    "# print the first 5 predictions along with the actual values and differences\n",
    "predictions[:5], y[:5], predictions[:5] - y[:5]\n",
    "\n",
    "print(\"Actual vs Predicted\")\n",
    "print(np.c_[y[:5], predictions[:5]])"
   ]
  },
  {
   "cell_type": "code",
   "execution_count": 40,
   "metadata": {},
   "outputs": [
    {
     "name": "stdout",
     "output_type": "stream",
     "text": [
      "MSE: 385361005794.8461\n",
      "RMSE: 620774.5208969567\n",
      "R2 Score: -385361005793.8461\n"
     ]
    }
   ],
   "source": [
    "# Print some of the metrics for measuring the model performance\n",
    "from sklearn.metrics import mean_squared_error, r2_score\n",
    "\n",
    "print(\"MSE:\", mean_squared_error(y, predictions))\n",
    "print(\"RMSE:\", np.sqrt(mean_squared_error(y, predictions)))\n",
    "print(\"R2 Score:\", r2_score(y, predictions))"
   ]
  },
  {
   "cell_type": "code",
   "execution_count": 28,
   "metadata": {},
   "outputs": [
    {
     "data": {
      "text/plain": [
       "40157225190.56655"
      ]
     },
     "execution_count": 28,
     "metadata": {},
     "output_type": "execute_result"
    },
    {
     "data": {
      "image/png": "[encoded data removed]",
      "text/plain": [
       "<Figure size 640x480 with 1 Axes>"
      ]
     },
     "metadata": {},
     "output_type": "display_data"
    }
   ],
   "source": [
    "from matplotlib import pyplot as plt\n",
    "plt.plot(errors)\n",
    "errors[-1]"
   ]
  }
 ],
 "metadata": {
  "kernelspec": {
   "display_name": "env",
   "language": "python",
   "name": "env"
  },
  "language_info": {
   "codemirror_mode": {
    "name": "ipython",
    "version": 3
   },
   "file_extension": ".py",
   "mimetype": "text/x-python",
   "name": "python",
   "nbconvert_exporter": "python",
   "pygments_lexer": "ipython3",
   "version": "3.9.6"
  }
 },
 "nbformat": 4,
 "nbformat_minor": 2
}
